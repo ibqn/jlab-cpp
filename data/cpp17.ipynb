{
 "cells": [
  {
   "cell_type": "code",
   "execution_count": 1,
   "metadata": {},
   "outputs": [
    {
     "data": {
      "text/plain": [
       "\"that's c++ man.\""
      ]
     },
     "execution_count": 1,
     "metadata": {},
     "output_type": "execute_result"
    }
   ],
   "source": [
    "#include<string>\n",
    "\n",
    "std::string s = \"that's c++ man.\";\n",
    "s"
   ]
  },
  {
   "cell_type": "code",
   "execution_count": 2,
   "metadata": {},
   "outputs": [
    {
     "name": "stdout",
     "output_type": "stream",
     "text": [
      "hi, there\n"
     ]
    }
   ],
   "source": [
    "#include<iostream>\n",
    "\n",
    "std::cout << \"hi, there\" << std::endl;"
   ]
  },
  {
   "cell_type": "code",
   "execution_count": 3,
   "metadata": {},
   "outputs": [],
   "source": [
    "#include <sstream>\n",
    "#include <iostream>\n",
    "#include <iomanip>\n",
    "\n",
    "void make_triangle(int num_rows) {\n",
    "        for(int i = 0 ; i < num_rows; i++) {\n",
    "        std::cout << std::setfill(' ') << std::setw(num_rows - i + 1) << \" \";\n",
    "        std::cout << std::setfill('#') << std::setw(i * 2 + 1) << \"#\";\n",
    "        std::cout << std::endl;\n",
    "    }\n",
    "}"
   ]
  },
  {
   "cell_type": "code",
   "execution_count": 4,
   "metadata": {},
   "outputs": [
    {
     "name": "stdout",
     "output_type": "stream",
     "text": [
      "        #\n",
      "       ###\n",
      "      #####\n",
      "     #######\n",
      "    #########\n",
      "   ###########\n",
      "  #############\n"
     ]
    }
   ],
   "source": [
    "make_triangle(7)"
   ]
  },
  {
   "cell_type": "code",
   "execution_count": null,
   "metadata": {},
   "outputs": [],
   "source": []
  }
 ],
 "metadata": {
  "kernelspec": {
   "display_name": "C++17",
   "language": "C++17",
   "name": "xcpp17"
  },
  "language_info": {
   "codemirror_mode": "text/x-c++src",
   "file_extension": ".cpp",
   "mimetype": "text/x-c++src",
   "name": "c++",
   "version": "-std=c++17"
  }
 },
 "nbformat": 4,
 "nbformat_minor": 4
}
