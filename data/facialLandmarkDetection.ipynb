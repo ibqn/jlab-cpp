{
 "cells": [
  {
   "cell_type": "code",
   "execution_count": 1,
   "metadata": {},
   "outputs": [],
   "source": [
    "#include \"includeLibraries.h\""
   ]
  },
  {
   "cell_type": "code",
   "execution_count": 2,
   "metadata": {},
   "outputs": [],
   "source": [
    "#include <string>\n",
    "#include <cstring>\n",
    "#include <fstream>\n",
    "#include <dlib/opencv.h>\n",
    "#include <dlib/image_processing.h>\n",
    "#include <dlib/image_processing/frontal_face_detector.h>\n",
    "#include <opencv2/opencv.hpp>"
   ]
  },
  {
   "cell_type": "code",
   "execution_count": 3,
   "metadata": {},
   "outputs": [],
   "source": [
    "// Write landmarks to file\n",
    "void writeLandmarksToFile(\n",
    "    dlib::full_object_detection &landmarks, \n",
    "    const std::string &filename\n",
    ") {\n",
    "    // Open file\n",
    "    std::ofstream ofs;\n",
    "    ofs.open(filename);\n",
    "  \n",
    "    // Loop over all landmark points\n",
    "    for (int i = 0; i < landmarks.num_parts(); i++) {\n",
    "        // Print x and y coordinates to file\n",
    "        ofs << landmarks.part(i).x() << \" \" << landmarks.part(i).y() << std::endl;\n",
    "    }\n",
    "    // Close file\n",
    "    ofs.close();\n",
    "}"
   ]
  },
  {
   "cell_type": "code",
   "execution_count": 4,
   "metadata": {},
   "outputs": [],
   "source": [
    "void drawLandmarks(cv::Mat &im, dlib::full_object_detection landmarks) {\n",
    "    for(int i = 0; i < landmarks.num_parts(); i++) {\n",
    "        int px = landmarks.part(i).x();\n",
    "        int py = landmarks.part(i).y();\n",
    "\n",
    "        cv::circle(im, cv::Point(px, py), 1, cv::Scalar(0, 0, 255), 2, cv::LINE_AA);\n",
    "        cv::putText(\n",
    "            im, \n",
    "            std::to_string(i + 1), \n",
    "            cv::Point(px, py), \n",
    "            cv::FONT_HERSHEY_SIMPLEX, \n",
    "            .3, \n",
    "            cv::Scalar(255, 0, 0), \n",
    "            1\n",
    "        );\n",
    "    }\n",
    "}"
   ]
  },
  {
   "cell_type": "code",
   "execution_count": 5,
   "metadata": {},
   "outputs": [],
   "source": [
    "dlib::frontal_face_detector faceDetector = dlib::get_frontal_face_detector();"
   ]
  },
  {
   "cell_type": "code",
   "execution_count": 6,
   "metadata": {},
   "outputs": [],
   "source": [
    "dlib::shape_predictor landmarkDetector;"
   ]
  },
  {
   "cell_type": "code",
   "execution_count": 7,
   "metadata": {},
   "outputs": [],
   "source": [
    "dlib::deserialize(\"shape_predictor_68_face_landmarks.dat\") >> landmarkDetector;"
   ]
  },
  {
   "cell_type": "code",
   "execution_count": 8,
   "metadata": {},
   "outputs": [],
   "source": [
    "std::string imageFilename(\"girl.jpg\");"
   ]
  },
  {
   "cell_type": "code",
   "execution_count": 9,
   "metadata": {},
   "outputs": [],
   "source": [
    "cv::Mat im = cv::imread(imageFilename);"
   ]
  },
  {
   "cell_type": "code",
   "execution_count": 10,
   "metadata": {},
   "outputs": [],
   "source": [
    "std::string landmarksBasename(\"output\");"
   ]
  },
  {
   "cell_type": "code",
   "execution_count": 11,
   "metadata": {},
   "outputs": [],
   "source": [
    "dlib::cv_image<dlib::bgr_pixel> dlibIm(im);"
   ]
  },
  {
   "cell_type": "code",
   "execution_count": 12,
   "metadata": {},
   "outputs": [],
   "source": [
    "std::vector<dlib::rectangle> faceRects;"
   ]
  },
  {
   "cell_type": "code",
   "execution_count": 13,
   "metadata": {},
   "outputs": [],
   "source": [
    "faceRects = faceDetector(dlibIm);"
   ]
  },
  {
   "cell_type": "code",
   "execution_count": 14,
   "metadata": {},
   "outputs": [
    {
     "name": "stdout",
     "output_type": "stream",
     "text": [
      "Number of faces detected: 1\n"
     ]
    }
   ],
   "source": [
    "std::cout << \"Number of faces detected: \" << faceRects.size() << std::endl;"
   ]
  },
  {
   "cell_type": "code",
   "execution_count": 15,
   "metadata": {},
   "outputs": [],
   "source": [
    "std::vector<dlib::full_object_detection> landmarksAll;"
   ]
  },
  {
   "cell_type": "code",
   "execution_count": 16,
   "metadata": {},
   "outputs": [
    {
     "name": "stdout",
     "output_type": "stream",
     "text": [
      "Number of landmarks : 68\n",
      "Saving landmarks to output_0.txt\n"
     ]
    }
   ],
   "source": [
    "for (int i = 0; i < faceRects.size(); i++) {\n",
    "    // For every face rectangle, run landmarkDetector\n",
    "    dlib::full_object_detection landmarks;\n",
    "    \n",
    "    landmarks = landmarkDetector(dlibIm, faceRects[i]);\n",
    "    \n",
    "    // Print number of landmarks\n",
    "    std::cout << \"Number of landmarks : \" << landmarks.num_parts() << std::endl;\n",
    "    \n",
    "    // Store landmarks for current face\n",
    "    landmarksAll.push_back(landmarks);\n",
    "    \n",
    "    // Draw landmarks on face\n",
    "    drawLandmarks(im, landmarks);\n",
    "\n",
    "    // Write landmarks to disk\n",
    "    std::stringstream landmarksFilename;\n",
    "    landmarksFilename << landmarksBasename <<  \"_\"  << i << \".txt\";\n",
    "    std::cout << \"Saving landmarks to \" << landmarksFilename.str() << std::endl;\n",
    "    writeLandmarksToFile(landmarks, landmarksFilename.str());\n",
    "}"
   ]
  },
  {
   "cell_type": "code",
   "execution_count": 17,
   "metadata": {},
   "outputs": [
    {
     "name": "stdout",
     "output_type": "stream",
     "text": [
      "Saving output image to result_Landmarks.jpg\n"
     ]
    }
   ],
   "source": [
    "std::string outputFilename(\"result_Landmarks.jpg\");\n",
    "std::cout << \"Saving output image to \" << outputFilename << std::endl;"
   ]
  },
  {
   "cell_type": "code",
   "execution_count": 18,
   "metadata": {},
   "outputs": [],
   "source": [
    "cv::imwrite(outputFilename, im);"
   ]
  }
 ],
 "metadata": {
  "kernelspec": {
   "display_name": "C++17",
   "language": "C++17",
   "name": "xcpp17"
  },
  "language_info": {
   "codemirror_mode": "text/x-c++src",
   "file_extension": ".cpp",
   "mimetype": "text/x-c++src",
   "name": "c++",
   "version": "-std=c++17"
  }
 },
 "nbformat": 4,
 "nbformat_minor": 4
}
